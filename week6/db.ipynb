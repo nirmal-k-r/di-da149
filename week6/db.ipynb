{
 "cells": [
  {
   "cell_type": "code",
   "execution_count": 5,
   "metadata": {},
   "outputs": [
    {
     "name": "stdout",
     "output_type": "stream",
     "text": [
      "Connected to the database\n"
     ]
    }
   ],
   "source": [
    "import psycopg2\n",
    "\n",
    "#set the database connection params\n",
    "params={\n",
    "    'name': 'class143', #database name\n",
    "    'user': 'class143_owner',\n",
    "    'password': 'BThOV0lZb3YU',\n",
    "    'host': 'ep-holy-lab-a2xm39f8.eu-central-1.aws.neon.tech', #host(db server) name \n",
    "    'port': '5432'\n",
    "}\n",
    "\n",
    "#connect to the database\n",
    "try:\n",
    "    conn=psycopg2.connect(\n",
    "        database=params['name'],\n",
    "        user=params['user'],\n",
    "        password=params['password'],\n",
    "        host=params['host'],\n",
    "        port=params['port']\n",
    "    )\n",
    "    print(\"Connected to the database\")\n",
    "\n",
    "except Exception as e:\n",
    "    print(\"Error: \", e)\n",
    "\n"
   ]
  },
  {
   "cell_type": "code",
   "execution_count": 7,
   "metadata": {},
   "outputs": [
    {
     "name": "stdout",
     "output_type": "stream",
     "text": [
      "(1, 'Gaming Laptop', 'Electronics', Decimal('1500.00'))\n",
      "(2, 'Mechanical Keyboard', 'Accessories', Decimal('100.00'))\n",
      "(3, 'Wireless Mouse', 'Accessories', Decimal('50.00'))\n",
      "(4, 'Smartphone', 'Electronics', Decimal('800.00'))\n",
      "(5, 'HD Monitor', 'Electronics', Decimal('300.00'))\n",
      "(6, 'Gaming Chair', 'Furniture', Decimal('200.00'))\n",
      "(7, 'Headset', 'Accessories', Decimal('75.00'))\n",
      "(8, 'External Hard Drive', 'Storage', Decimal('120.00'))\n",
      "(9, 'USB-C Hub', 'Accessories', Decimal('40.00'))\n",
      "(10, 'Bluetooth Speaker', 'Audio', Decimal('150.00'))\n"
     ]
    }
   ],
   "source": [
    "def get_products():\n",
    "    query=\"Select * from products\"\n",
    "\n",
    "    cur=conn.cursor()\n",
    "    cur.execute(query)\n",
    "    # conn.commit()\n",
    "\n",
    "    results=cur.fetchall()\n",
    "\n",
    "    # print(results)\n",
    "    for product in results:\n",
    "        print(product)\n",
    "\n",
    "\n",
    "\n",
    "get_products()"
   ]
  },
  {
   "cell_type": "code",
   "execution_count": 8,
   "metadata": {},
   "outputs": [
    {
     "name": "stdout",
     "output_type": "stream",
     "text": [
      "Product added successfully\n"
     ]
    }
   ],
   "source": [
    "def add_product(id, name, category, price):\n",
    "    query=f\"Insert into products Values({id}, '{name}', '{category}', {price})\"\n",
    "\n",
    "    cur=conn.cursor()\n",
    "    cur.execute(query)\n",
    "    conn.commit() #commit the transaction\n",
    "\n",
    "    print(\"Product added successfully\")\n",
    "\n",
    "add_product(11, 'Laptop', 'Electronics', 50000)"
   ]
  },
  {
   "cell_type": "code",
   "execution_count": 9,
   "metadata": {},
   "outputs": [
    {
     "name": "stdout",
     "output_type": "stream",
     "text": [
      "(1, 'Gaming Laptop', 'Electronics', Decimal('1500.00'))\n",
      "(2, 'Mechanical Keyboard', 'Accessories', Decimal('100.00'))\n",
      "(3, 'Wireless Mouse', 'Accessories', Decimal('50.00'))\n",
      "(4, 'Smartphone', 'Electronics', Decimal('800.00'))\n",
      "(5, 'HD Monitor', 'Electronics', Decimal('300.00'))\n",
      "(6, 'Gaming Chair', 'Furniture', Decimal('200.00'))\n",
      "(7, 'Headset', 'Accessories', Decimal('75.00'))\n",
      "(8, 'External Hard Drive', 'Storage', Decimal('120.00'))\n",
      "(9, 'USB-C Hub', 'Accessories', Decimal('40.00'))\n",
      "(10, 'Bluetooth Speaker', 'Audio', Decimal('150.00'))\n",
      "(11, 'Laptop', 'Electronics', Decimal('50000.00'))\n"
     ]
    }
   ],
   "source": [
    "get_products()"
   ]
  },
  {
   "cell_type": "code",
   "execution_count": 11,
   "metadata": {},
   "outputs": [
    {
     "name": "stdout",
     "output_type": "stream",
     "text": [
      "Connection closed\n"
     ]
    }
   ],
   "source": [
    "conn.close() #close the connection\n",
    "print(\"Connection closed\")"
   ]
  }
 ],
 "metadata": {
  "kernelspec": {
   "display_name": "Python 3",
   "language": "python",
   "name": "python3"
  },
  "language_info": {
   "codemirror_mode": {
    "name": "ipython",
    "version": 3
   },
   "file_extension": ".py",
   "mimetype": "text/x-python",
   "name": "python",
   "nbconvert_exporter": "python",
   "pygments_lexer": "ipython3",
   "version": "3.10.2"
  }
 },
 "nbformat": 4,
 "nbformat_minor": 2
}
