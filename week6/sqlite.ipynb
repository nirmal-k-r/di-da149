{
 "cells": [
  {
   "cell_type": "code",
   "execution_count": 4,
   "metadata": {},
   "outputs": [
    {
     "name": "stdout",
     "output_type": "stream",
     "text": [
      "Opened database successfully\n"
     ]
    }
   ],
   "source": [
    "import sqlite3\n",
    "\n",
    "#create and/or connect to sqlite3 database\n",
    "\n",
    "conn=sqlite3.connect('ecommerce.db')\n",
    "print(\"Opened database successfully\")"
   ]
  },
  {
   "cell_type": "code",
   "execution_count": 5,
   "metadata": {},
   "outputs": [],
   "source": [
    "def create_table():\n",
    "    query='''\n",
    "    create table if not exists products(\n",
    "        id integer primary key autoincrement,\n",
    "        name varchar(100) not null,\n",
    "        category varchar(100) not null,\n",
    "        price float not null\n",
    "    )\n",
    "    '''\n",
    "    cur=conn.cursor()\n",
    "    cur.execute(query)\n",
    "    conn.commit()\n",
    "\n",
    "create_table()\n"
   ]
  },
  {
   "cell_type": "code",
   "execution_count": 9,
   "metadata": {},
   "outputs": [
    {
     "name": "stdout",
     "output_type": "stream",
     "text": [
      "Product added successfully\n",
      "Product added successfully\n",
      "Product added successfully\n",
      "Product added successfully\n",
      "Product added successfully\n",
      "Product added successfully\n",
      "Product added successfully\n",
      "Product added successfully\n"
     ]
    }
   ],
   "source": [
    "def add_product(name, category, price):\n",
    "    query=f\"Insert into products(name,category,price) Values('{name}', '{category}', {price})\"\n",
    "\n",
    "    cur=conn.cursor()\n",
    "    cur.execute(query)\n",
    "    conn.commit() #commit the transaction\n",
    "\n",
    "    print(\"Product added successfully\")\n",
    "\n",
    "# add_product('Laptop', 'Electronics', 50000)\n",
    "add_product('Mobile', 'Electronics', 20000)\n",
    "add_product('Shirt', 'Clothing', 500)\n",
    "add_product('Trousers', 'Clothing', 1000)\n",
    "add_product('Mouse', 'Electronics', 500)\n",
    "add_product('Keyboard', 'Electronics', 1000)\n",
    "add_product('Table', 'Furniture', 5000)\n",
    "add_product('Chair', 'Furniture', 1000)\n",
    "add_product('Bed', 'Furniture', 20000)\n"
   ]
  },
  {
   "cell_type": "code",
   "execution_count": 10,
   "metadata": {},
   "outputs": [
    {
     "name": "stdout",
     "output_type": "stream",
     "text": [
      "(1, 'Laptop', 'Electronics', 50000.0)\n",
      "(2, 'Mobile', 'Electronics', 20000.0)\n",
      "(3, 'Shirt', 'Clothing', 500.0)\n",
      "(4, 'Trousers', 'Clothing', 1000.0)\n",
      "(5, 'Mouse', 'Electronics', 500.0)\n",
      "(6, 'Keyboard', 'Electronics', 1000.0)\n",
      "(7, 'Table', 'Furniture', 5000.0)\n",
      "(8, 'Chair', 'Furniture', 1000.0)\n",
      "(9, 'Bed', 'Furniture', 20000.0)\n"
     ]
    }
   ],
   "source": [
    "def get_products():\n",
    "    query=\"Select * from products\"\n",
    "\n",
    "    cur=conn.cursor()\n",
    "    cur.execute(query)\n",
    "    # conn.commit()\n",
    "\n",
    "    results=cur.fetchall()\n",
    "\n",
    "    # print(results)\n",
    "    for product in results:\n",
    "        print(product)\n",
    "\n",
    "\n",
    "get_products()"
   ]
  },
  {
   "cell_type": "code",
   "execution_count": 11,
   "metadata": {},
   "outputs": [],
   "source": [
    "conn.close()"
   ]
  }
 ],
 "metadata": {
  "kernelspec": {
   "display_name": "Python 3",
   "language": "python",
   "name": "python3"
  },
  "language_info": {
   "codemirror_mode": {
    "name": "ipython",
    "version": 3
   },
   "file_extension": ".py",
   "mimetype": "text/x-python",
   "name": "python",
   "nbconvert_exporter": "python",
   "pygments_lexer": "ipython3",
   "version": "3.10.2"
  }
 },
 "nbformat": 4,
 "nbformat_minor": 2
}
