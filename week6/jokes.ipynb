{
 "cells": [
  {
   "cell_type": "code",
   "execution_count": 1,
   "metadata": {},
   "outputs": [
    {
     "name": "stdout",
     "output_type": "stream",
     "text": [
      "Opened database successfully\n"
     ]
    }
   ],
   "source": [
    "import sqlite3\n",
    "\n",
    "#create and/or connect to sqlite3 database\n",
    "\n",
    "conn=sqlite3.connect('jokes.db')\n",
    "print(\"Opened database successfully\")"
   ]
  },
  {
   "cell_type": "code",
   "execution_count": 2,
   "metadata": {},
   "outputs": [],
   "source": [
    "def create_table():\n",
    "    query='''\n",
    "    create table if not exists jokes(\n",
    "        id integer primary key autoincrement,\n",
    "        joke text not null\n",
    "    )\n",
    "    '''\n",
    "    cur=conn.cursor()\n",
    "    cur.execute(query)\n",
    "    conn.commit()\n",
    "\n",
    "create_table()"
   ]
  },
  {
   "cell_type": "code",
   "execution_count": 3,
   "metadata": {},
   "outputs": [],
   "source": [
    "def add_product(joke):\n",
    "    query=f\"Insert into jokes(joke) Values('{joke}')\"\n",
    "\n",
    "    cur=conn.cursor()\n",
    "    cur.execute(query)\n",
    "    conn.commit() #commit the transaction\n"
   ]
  },
  {
   "cell_type": "code",
   "execution_count": 4,
   "metadata": {},
   "outputs": [
    {
     "name": "stdout",
     "output_type": "stream",
     "text": [
      "0: Chuck Norris is a poet and his feet know it. Each one has an impression of your face on it.\n",
      "1: If paper beats rock, rock beats scissors, and scissors beats paper, what beats all 3 at the same time? Answer: Chuck Norris.\n",
      "2: In the first Jurassic Park movie, the Tyrannosaurus Rex wasn't chasing the jeep. Chuck Norris was chasing the Tyrannosaurus AND the jeep.\n",
      "2: Failed to save joke\n",
      "3: Chuck Norris doesn't need a baseball bat to Beat on the Brat.\n",
      "3: Failed to save joke\n",
      "4: Chuck Norris' buisness cards simply say: 'Look at me.' You will then be staring down the barrel of a twelve-guage.\n",
      "4: Failed to save joke\n",
      "5: people look up at the moon, while the moon looks down at Chuck Norris\n",
      "6: Chuck Norris doesn't need vacuum to clean kis carpet he makes the carpet clean itself\n",
      "6: Failed to save joke\n",
      "7: the popular videogame \"DOOM\" is loosely based around the time satan borrowed two bucks from Chuck Norris and forgot to pay him back\n",
      "8: Chuck Norris never uses parachutes when he skydives out of airplanes because they only slow him down.\n",
      "9: Attila the Hun soiled his pants when he heard that Chuck Norris was on sabbatical in the next village to be conquered.\n",
      "10: Jack Lallane gave birth to Chuck Norris, who in turn, gave birth to Jack Lallane. Vin Diesel was the afterbirth.\n",
      "11: Chuck Norris went to the Virgin Islands. When he got back, they were just the Islands.\n",
      "12: Chuck Norris's database has only one table, 'Kick', which he DROPs frequently.\n",
      "12: Failed to save joke\n",
      "13: Chuck Norris never lets pussy get away from him.\n",
      "14: Chuck Norris can make necrophilia trendy\n",
      "15: The sperm whale is actually the 2nd diving champion. The 1st diving champion is Chuck Norris.\n",
      "16: Chuck Norris shot tupac and biggie.\n",
      "17: Chuck Norris discovered a new planet by simply pointing into the night sky and saying \"there's one\".\n",
      "17: Failed to save joke\n",
      "18: Chuck Norris made a set of boxing speed bags out of Abe Vigoda's earlobes.\n",
      "18: Failed to save joke\n",
      "19: Chuck Norris can shoot you from three miles away with a piano\n",
      "20: Chuck Norris threw your only trash can in the trash.\n",
      "21: Chuck Norris only keeps in touch with his first nine dozen kids - all the others around the world get a quarterly newsletter\n",
      "22: Chuck Norris can play New Super Mario Bros. 2 on an X-Box 360. He can also play Sonic The Hedgehog 2006 on a Nintendo 3DS.\n",
      "23: Chuck Norris can kill the chicken in Zelda.\n",
      "24: Chuck Norris is watching you as you read this joke. If you want it to end quickly, don't turn around.\n",
      "24: Failed to save joke\n"
     ]
    }
   ],
   "source": [
    "import requests\n",
    "\n",
    "for i in range(25):\n",
    "    try:\n",
    "        response=requests.get('https://api.chucknorris.io/jokes/random').json()\n",
    "        print(f\"{i}: {response['value']}\")\n",
    "        add_product(response['value'])\n",
    "    except:\n",
    "        print(f\"{i}: Failed to save joke\")"
   ]
  },
  {
   "cell_type": "code",
   "execution_count": 5,
   "metadata": {},
   "outputs": [
    {
     "name": "stdout",
     "output_type": "stream",
     "text": [
      "(1, 'Chuck Norris is the only human alive capable of A-sexual reproduction by masterbation. He has 33,447 children.')\n",
      "(2, 'Chuck Norris can divide by zero.')\n",
      "(3, 'Chuck Norris runs until the treadmill gets tired')\n",
      "(4, 'There are more than 1 billion Chinese people throughout the world because Chuck Norris likes Chinese food.')\n",
      "(5, 'The Aboriginal witch doctors of Australia consider Chuck Norris a godlike spirit-man for his ability to fart loud didgeridoo-like tones that paralyze wambats and other indigenous tablefare.')\n",
      "(6, 'Chuck Norris has to use deodorant not to cover up any offensive odor, but to keep women from throwing themselves at him when they smell his essence.')\n",
      "(7, 'Chuck Norris can break a rubber band in half')\n",
      "(8, 'Viagra takes Chuck Norris.')\n",
      "(9, 'Chuck Norris is suing Myspace for taking the name of what he calls everything around you.')\n",
      "(10, 'When you tell Chuck Norris a Chuck Norris fact, he laughs. And then roundhouse kicks you in the face.')\n",
      "(11, 'Chuck Norris doesnt wear a watch, HE decides what time it is.')\n",
      "(12, 'Little known fact: Talking Shit About Chuck Norris is the eighth Deadly Sin. And by far the most deadly.')\n",
      "(13, 'In the movie \"The Matrix\", Chuck Norris is the Matrix. If you pay close attention in the green \"falling code\" scenes, you can make out the faint texture of his beard.')\n",
      "(14, 'Chuck Norris can ride his bike with no handlebars..............or wheels')\n",
      "(15, 'It is said that a watch pot nevers boils, but in Chuck Norris case a watch pot boils in an instance out of fear and retallation from Chuck Norris')\n",
      "(16, 'After consuming four gallons of Captain Morgan Rum Chuck Norris was pulled over and ask to perform a field sobriety test. He did so while standing with (L)boot on empty 1/2 gal(R)boot touching bearded ass,head tilted back,fingers touching flaming nostrils and saying the alphabet back words in 23 foregin languages...while being taserd.')\n",
      "(17, 'Chuck Norris is a cock!!! wheyyyyy')\n",
      "(18, 'The Chuck Norris Eclipse plugin made alien contact.')\n",
      "(19, 'Chuck Norris once completed 40 hours of work in 4 hours, including 15 minutes for a coffee break.')\n",
      "(20, 'A grizzly bear shattered all its teeth when it bit Chuck Norris in the ass. A merciful Chuck Norris then lovingless fed the toothless grizzly 3 gallons of prueed salmon before ripping its gallbladder out through its asshole.')\n",
      "(21, 'Chuck Norris is a poet and his feet know it. Each one has an impression of your face on it.')\n",
      "(22, 'If paper beats rock, rock beats scissors, and scissors beats paper, what beats all 3 at the same time? Answer: Chuck Norris.')\n",
      "(23, 'people look up at the moon, while the moon looks down at Chuck Norris')\n",
      "(24, 'the popular videogame \"DOOM\" is loosely based around the time satan borrowed two bucks from Chuck Norris and forgot to pay him back')\n",
      "(25, 'Chuck Norris never uses parachutes when he skydives out of airplanes because they only slow him down.')\n",
      "(26, 'Attila the Hun soiled his pants when he heard that Chuck Norris was on sabbatical in the next village to be conquered.')\n",
      "(27, 'Jack Lallane gave birth to Chuck Norris, who in turn, gave birth to Jack Lallane. Vin Diesel was the afterbirth.')\n",
      "(28, 'Chuck Norris went to the Virgin Islands. When he got back, they were just the Islands.')\n",
      "(29, 'Chuck Norris never lets pussy get away from him.')\n",
      "(30, 'Chuck Norris can make necrophilia trendy')\n",
      "(31, 'The sperm whale is actually the 2nd diving champion. The 1st diving champion is Chuck Norris.')\n",
      "(32, 'Chuck Norris shot tupac and biggie.')\n",
      "(33, 'Chuck Norris can shoot you from three miles away with a piano')\n",
      "(34, 'Chuck Norris threw your only trash can in the trash.')\n",
      "(35, 'Chuck Norris only keeps in touch with his first nine dozen kids - all the others around the world get a quarterly newsletter')\n",
      "(36, 'Chuck Norris can play New Super Mario Bros. 2 on an X-Box 360. He can also play Sonic The Hedgehog 2006 on a Nintendo 3DS.')\n",
      "(37, 'Chuck Norris can kill the chicken in Zelda.')\n"
     ]
    }
   ],
   "source": [
    "def get_jokes():\n",
    "    query=\"Select * from jokes\"\n",
    "\n",
    "    cur=conn.cursor()\n",
    "    cur.execute(query)\n",
    "    # conn.commit()\n",
    "\n",
    "    results=cur.fetchall()\n",
    "\n",
    "    # print(results)\n",
    "    for joke in results:\n",
    "        print(joke)\n",
    "\n",
    "get_jokes()"
   ]
  },
  {
   "cell_type": "code",
   "execution_count": 6,
   "metadata": {},
   "outputs": [],
   "source": [
    "conn.close()"
   ]
  }
 ],
 "metadata": {
  "kernelspec": {
   "display_name": "Python 3",
   "language": "python",
   "name": "python3"
  },
  "language_info": {
   "codemirror_mode": {
    "name": "ipython",
    "version": 3
   },
   "file_extension": ".py",
   "mimetype": "text/x-python",
   "name": "python",
   "nbconvert_exporter": "python",
   "pygments_lexer": "ipython3",
   "version": "3.10.2"
  }
 },
 "nbformat": 4,
 "nbformat_minor": 2
}
