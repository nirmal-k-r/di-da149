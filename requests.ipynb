{
 "cells": [
  {
   "cell_type": "code",
   "execution_count": 18,
   "metadata": {},
   "outputs": [
    {
     "name": "stdout",
     "output_type": "stream",
     "text": [
      "200\n",
      "{'Date': 'Wed, 10 Jul 2024 15:27:40 GMT', 'Content-Type': 'application/json', 'Transfer-Encoding': 'chunked', 'Connection': 'keep-alive', 'Report-To': '{\"group\":\"heroku-nel\",\"max_age\":3600,\"endpoints\":[{\"url\":\"https://nel.heroku.com/reports?ts=1720625260&sid=812dcc77-0bd0-43b1-a5f1-b25750382959&s=tKvCZG%2B%2B8DCZvvQG%2FAe71s7wZ%2Bxy5BfAAZwJ30qvxoY%3D\"}]}', 'Reporting-Endpoints': 'heroku-nel=https://nel.heroku.com/reports?ts=1720625260&sid=812dcc77-0bd0-43b1-a5f1-b25750382959&s=tKvCZG%2B%2B8DCZvvQG%2FAe71s7wZ%2Bxy5BfAAZwJ30qvxoY%3D', 'Nel': '{\"report_to\":\"heroku-nel\",\"max_age\":3600,\"success_fraction\":0.005,\"failure_fraction\":0.05,\"response_headers\":[\"Via\"]}', 'Vary': 'Origin, Access-Control-Request-Method, Access-Control-Request-Headers', 'Via': '1.1 vegur', 'CF-Cache-Status': 'DYNAMIC', 'Server': 'cloudflare', 'CF-RAY': '8a11943d6c923878-MRU', 'Content-Encoding': 'br', 'alt-svc': 'h3=\":443\"; ma=86400'}\n",
      "{'categories': [], 'created_at': '2020-01-05 13:42:28.664997', 'icon_url': 'https://api.chucknorris.io/img/avatar/chuck-norris.png', 'id': 'rMQ2azTRToyx3KB4h5aLNQ', 'updated_at': '2020-01-05 13:42:28.664997', 'url': 'https://api.chucknorris.io/jokes/rMQ2azTRToyx3KB4h5aLNQ', 'value': 'Chuck Norris went to the bottom of the bottomless pit, he was so pissed there was a bottom, he roundhouse kicked it and now it truly is bottomless'}\n"
     ]
    }
   ],
   "source": [
    "import requests\n",
    "\n",
    "\n",
    "#sebd get request to api\n",
    "\n",
    "response=requests.get('https://api.chucknorris.io/jokes/random')\n",
    "print(response.status_code)\n",
    "print(response.headers)\n",
    "print(response.json())\n",
    "\n"
   ]
  },
  {
   "cell_type": "code",
   "execution_count": 19,
   "metadata": {},
   "outputs": [
    {
     "ename": "TypeError",
     "evalue": "'Response' object is not subscriptable",
     "output_type": "error",
     "traceback": [
      "\u001b[0;31m---------------------------------------------------------------------------\u001b[0m",
      "\u001b[0;31mTypeError\u001b[0m                                 Traceback (most recent call last)",
      "Cell \u001b[0;32mIn[19], line 2\u001b[0m\n\u001b[1;32m      1\u001b[0m \u001b[38;5;66;03m#simply access it like a dictionary\u001b[39;00m\n\u001b[0;32m----> 2\u001b[0m \u001b[43mresponse\u001b[49m\u001b[43m[\u001b[49m\u001b[38;5;124;43m'\u001b[39;49m\u001b[38;5;124;43mvalue\u001b[39;49m\u001b[38;5;124;43m'\u001b[39;49m\u001b[43m]\u001b[49m\n",
      "\u001b[0;31mTypeError\u001b[0m: 'Response' object is not subscriptable"
     ]
    }
   ],
   "source": [
    "#simply access it like a dictionary\n",
    "response['value']"
   ]
  },
  {
   "cell_type": "code",
   "execution_count": null,
   "metadata": {},
   "outputs": [
    {
     "name": "stdout",
     "output_type": "stream",
     "text": [
      "0: Chuck Norris invented a language that incorporates karate and roundhouse kicks. So next time Chuck Norris is kicking your ass, don?t be offended or hurt, he may be just trying to tell you he likes your hat.\n",
      "1: Chuck Norris roundhouse kicked Neo out of Zion, now Neo is \"The Two\"\n",
      "2: Chuck Norris once played a Generation V Pokemon game and caught a Raichu. The Raichu is now defiant enough to knock out an Excadrill with Bolt Strike. How is this defiant? Excadrill's types are Ground [has immunity to Electric-type moves] and Steel [has resistance to Electric-type moves], Raichu normally cannot learn Bolt Strike, and Raichu don't normally appear in Pokemon Black and White in the first place!\n",
      "3: One time, at band camp, Chuck Norris ate a percussionist.\n",
      "4: Albert Einstein showed that E = mc2. Chuck Norris proved it by splitting an atom through fear.\n",
      "5: Chuck Norris blows up ballons with his nose\n",
      "6: Chuck Norris once walked into a feminist convention wearing a 'No Fat Chick' t-shirt, and ended up having sex with over twenty lesbians.\n",
      "7: life < existence < Infinite power < God < Chuck Norris.\n",
      "8: Chuck Norris wipes his ass with chain mail and sandpaper.\n",
      "9: Christie Brinkley once swam through the Waco, TX sewer system just to see Chuck Norris' ass.\n"
     ]
    }
   ],
   "source": [
    "for i in range(10):\n",
    "    response=requests.get('https://api.chucknorris.io/jokes/random').json()\n",
    "    print(f\"{i}: {response['value']}\")\n",
    "   "
   ]
  },
  {
   "cell_type": "code",
   "execution_count": null,
   "metadata": {},
   "outputs": [
    {
     "data": {
      "text/plain": [
       "['animal',\n",
       " 'career',\n",
       " 'celebrity',\n",
       " 'dev',\n",
       " 'explicit',\n",
       " 'fashion',\n",
       " 'food',\n",
       " 'history',\n",
       " 'money',\n",
       " 'movie',\n",
       " 'music',\n",
       " 'political',\n",
       " 'religion',\n",
       " 'science',\n",
       " 'sport',\n",
       " 'travel']"
      ]
     },
     "execution_count": 17,
     "metadata": {},
     "output_type": "execute_result"
    }
   ],
   "source": [
    "categories=requests.get('https://api.chucknorris.io/jokes/categories').json()\n",
    "categories"
   ]
  },
  {
   "cell_type": "code",
   "execution_count": 22,
   "metadata": {},
   "outputs": [
    {
     "name": "stdout",
     "output_type": "stream",
     "text": [
      "Chuck Norris once sued Burger King after they refused to put razor wire in his Whopper Jr, insisting that that actually is \"his\" way.\n"
     ]
    }
   ],
   "source": [
    "# https://api.chucknorris.io/jokes/random?category={category}\n",
    "\n",
    "\n",
    "params={\n",
    "    'category': 'food'\n",
    "}\n",
    "\n",
    "joke=requests.get('https://api.chucknorris.io/jokes/random',params=params).json()['value']\n",
    "print(joke)"
   ]
  }
 ],
 "metadata": {
  "kernelspec": {
   "display_name": "Python 3",
   "language": "python",
   "name": "python3"
  },
  "language_info": {
   "codemirror_mode": {
    "name": "ipython",
    "version": 3
   },
   "file_extension": ".py",
   "mimetype": "text/x-python",
   "name": "python",
   "nbconvert_exporter": "python",
   "pygments_lexer": "ipython3",
   "version": "3.10.2"
  }
 },
 "nbformat": 4,
 "nbformat_minor": 2
}
