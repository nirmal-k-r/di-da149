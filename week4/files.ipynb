{
 "cells": [
  {
   "cell_type": "code",
   "execution_count": 25,
   "metadata": {},
   "outputs": [
    {
     "name": "stdout",
     "output_type": "stream",
     "text": [
      "rice\n",
      "milk\n",
      "butter\n",
      "cheese\n",
      "tissue paper\n",
      "cereal\n",
      "coffee\n",
      "sugar\n",
      "perette\n"
     ]
    }
   ],
   "source": [
    "#reading text files\n",
    "\n",
    "file = open(\"grocery_list.txt\",\"r\")\n",
    "\n",
    "print(file.read()) #reads the entire file\n",
    "\n",
    "file.close()"
   ]
  },
  {
   "cell_type": "code",
   "execution_count": 26,
   "metadata": {},
   "outputs": [
    {
     "name": "stdout",
     "output_type": "stream",
     "text": [
      "rice\n",
      "\n",
      "milk\n",
      "\n",
      "butter\n",
      "\n",
      "cheese\n",
      "\n",
      "tissue paper\n",
      "\n",
      "cereal\n",
      "\n",
      "coffee\n",
      "\n",
      "sugar\n",
      "\n",
      "perette\n"
     ]
    }
   ],
   "source": [
    "file = open(\"grocery_list.txt\",\"r\")\n",
    "\n",
    "for line in file:\n",
    "    print(line)"
   ]
  },
  {
   "cell_type": "code",
   "execution_count": 27,
   "metadata": {},
   "outputs": [
    {
     "name": "stdout",
     "output_type": "stream",
     "text": [
      "0: rice\n",
      "\n",
      "1: milk\n",
      "\n",
      "2: butter\n",
      "\n",
      "3: cheese\n",
      "\n",
      "4: tissue paper\n",
      "\n",
      "6: coffee\n",
      "\n",
      "7: sugar\n",
      "\n",
      "8: perette\n"
     ]
    }
   ],
   "source": [
    "file = open(\"grocery_list.txt\",\"r\")\n",
    "\n",
    "for i,line in enumerate(file):\n",
    "    if \"cereal\" not in line:\n",
    "        print(f\"{i}: {line}\")\n",
    "\n",
    "file.close()"
   ]
  },
  {
   "cell_type": "code",
   "execution_count": 28,
   "metadata": {},
   "outputs": [
    {
     "name": "stdout",
     "output_type": "stream",
     "text": [
      "['rice', 'milk', 'butter', 'cheese', 'tissue paper', 'cereal', 'coffee', 'sugar', 'perette']\n"
     ]
    }
   ],
   "source": [
    "file = open(\"grocery_list.txt\",\"r\")\n",
    "\n",
    "lines=file.readlines() #returns a list of all the lines in the file\n",
    "\n",
    "lines=[line.strip() for line in lines]\n",
    "print(lines)\n",
    "\n",
    "file.close()"
   ]
  },
  {
   "cell_type": "code",
   "execution_count": 36,
   "metadata": {},
   "outputs": [
    {
     "name": "stdout",
     "output_type": "stream",
     "text": [
      "2\n",
      "ce\n",
      "milk\n",
      "butter\n",
      "cheese\n",
      "tissue paper\n",
      "cereal\n",
      "coffee\n",
      "sugar\n",
      "perette\n"
     ]
    }
   ],
   "source": [
    "file = open(\"grocery_list.txt\",\"r\")\n",
    "\n",
    "file.seek(2) #move the cursor to the 2nd position\n",
    "print(file.tell()) #tell the current position of the cursor\n",
    "print(file.read())\n",
    "\n",
    "file.close()"
   ]
  },
  {
   "cell_type": "code",
   "execution_count": 30,
   "metadata": {},
   "outputs": [
    {
     "name": "stdout",
     "output_type": "stream",
     "text": [
      "rice\n",
      "milk\n",
      "butter\n",
      "cheese\n",
      "tissue paper\n",
      "cereal\n",
      "coffee\n",
      "sugar\n",
      "perette\n",
      "True\n"
     ]
    }
   ],
   "source": [
    "\n",
    "with open(\"grocery_list.txt\",\"r\") as file:\n",
    "    print(file.read())\n",
    "\n",
    "print(file.closed) #True\n",
    "\n",
    "\n",
    "   "
   ]
  },
  {
   "cell_type": "code",
   "execution_count": 31,
   "metadata": {},
   "outputs": [],
   "source": [
    "#write to a file\n",
    "\n",
    "file = open(\"names.txt\",\"w\")\n",
    "\n",
    "file.write(\"John lives in Mru\")\n",
    "\n",
    "file.close()"
   ]
  },
  {
   "cell_type": "code",
   "execution_count": 32,
   "metadata": {},
   "outputs": [],
   "source": [
    "#write to a file multiline with \\n\n",
    "\n",
    "file = open(\"names.txt\",\"w\")\n",
    "\n",
    "file.write(\"John lives in Mru\\n\")\n",
    "file.write(\"Eric is Australian\")\n",
    "\n",
    "file.close()"
   ]
  },
  {
   "cell_type": "code",
   "execution_count": 33,
   "metadata": {},
   "outputs": [],
   "source": [
    "#overwriting\n",
    "\n",
    "file = open(\"names.txt\",\"w\") #overwrites the file if it exists\n",
    "\n",
    "file.write('Paul walker')\n",
    "\n",
    "file.close()"
   ]
  },
  {
   "cell_type": "code",
   "execution_count": 34,
   "metadata": {},
   "outputs": [],
   "source": [
    "#open file in append mode\n",
    "\n",
    "file = open(\"names.txt\",\"a\") #overwrites the file if it exists\n",
    "\n",
    "# file.write('\\nMichael jackson')\n",
    "file.write('\\nAbcd')\n",
    "\n",
    "file.close()"
   ]
  },
  {
   "cell_type": "code",
   "execution_count": 35,
   "metadata": {},
   "outputs": [
    {
     "name": "stdout",
     "output_type": "stream",
     "text": [
      "File does not exist\n"
     ]
    }
   ],
   "source": [
    "try:\n",
    "    file = open(\"grocery.txt\",\"r\")\n",
    "\n",
    "    print(file.read()) \n",
    "\n",
    "    file.close()\n",
    "except:\n",
    "    print(\"File does not exist\")"
   ]
  }
 ],
 "metadata": {
  "kernelspec": {
   "display_name": "Python 3",
   "language": "python",
   "name": "python3"
  },
  "language_info": {
   "codemirror_mode": {
    "name": "ipython",
    "version": 3
   },
   "file_extension": ".py",
   "mimetype": "text/x-python",
   "name": "python",
   "nbconvert_exporter": "python",
   "pygments_lexer": "ipython3",
   "version": "3.10.2"
  }
 },
 "nbformat": 4,
 "nbformat_minor": 2
}
