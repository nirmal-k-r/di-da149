{
 "cells": [
  {
   "cell_type": "code",
   "execution_count": 96,
   "metadata": {},
   "outputs": [
    {
     "name": "stdout",
     "output_type": "stream",
     "text": [
      "Name: Tom\n",
      "Age: 23\n"
     ]
    }
   ],
   "source": [
    "class Person:\n",
    "    def __init__(self,name,age):\n",
    "        self.name = name\n",
    "        self.age = age\n",
    "\n",
    "    def info(self):\n",
    "        print(\"Name:\",self.name)\n",
    "        print(\"Age:\",self.age)  \n",
    "\n",
    "\n",
    "tom=Person(\"Tom\",23)\n",
    "tom.info()"
   ]
  },
  {
   "cell_type": "code",
   "execution_count": 97,
   "metadata": {},
   "outputs": [
    {
     "name": "stdout",
     "output_type": "stream",
     "text": [
      "Name: Eric\n",
      "Age: 25\n"
     ]
    }
   ],
   "source": [
    "#inheritance\n",
    "class Employee(Person):\n",
    "    def __init__(self,name,age,empid):\n",
    "        Person.__init__(self,name,age)\n",
    "        self.empid = empid\n",
    "\n",
    "\n",
    "\n",
    "eric=Employee(\"Eric\",25,1001)\n",
    "eric.info()"
   ]
  },
  {
   "cell_type": "code",
   "execution_count": 98,
   "metadata": {},
   "outputs": [
    {
     "name": "stdout",
     "output_type": "stream",
     "text": [
      "woof woof\n"
     ]
    }
   ],
   "source": [
    "#polymorphism\n",
    "class Employee2(Person):\n",
    "    def __init__(self,name,age,empid):\n",
    "        Person.__init__(self,name,age)\n",
    "        self.empid = empid\n",
    "\n",
    "    #overriding a method\n",
    "    def info(self):\n",
    "        # Person.info(self)\n",
    "        # print(\"Employee ID:\",self.empid)\n",
    "        print('woof woof')\n",
    "\n",
    "\n",
    "jack=Employee2(\"Jack\",27,1002)\n",
    "jack.info()"
   ]
  },
  {
   "cell_type": "code",
   "execution_count": 99,
   "metadata": {},
   "outputs": [
    {
     "name": "stdout",
     "output_type": "stream",
     "text": [
      "\n",
      "Name: Paul\n",
      "Balance: 1000\n",
      "\n",
      "Name: Paul\n",
      "Balance: 1000000\n"
     ]
    }
   ],
   "source": [
    "#encapsulation\n",
    "class BankAccount:\n",
    "    def __init__(self,name,balance):\n",
    "        self.name = name\n",
    "        self.balance = balance\n",
    "\n",
    "    def transfer(self,amount,destination):\n",
    "        self.balance=self.balance-amount\n",
    "        #fund transfer logic\n",
    "\n",
    "    def info(self):\n",
    "        print(\"\\nName:\",self.name)\n",
    "        print(\"Balance:\",self.balance)\n",
    "\n",
    "\n",
    "\n",
    "#main code\n",
    "paul=BankAccount(\"Paul\",1000)\n",
    "paul.info()\n",
    "\n",
    "#changing the balance directly\n",
    "paul.balance=1000000\n",
    "paul.info()"
   ]
  },
  {
   "cell_type": "code",
   "execution_count": 100,
   "metadata": {},
   "outputs": [
    {
     "name": "stdout",
     "output_type": "stream",
     "text": [
      "\n",
      "Name: Paul\n",
      "Balance: 1000\n",
      "\n",
      "Name: Paul\n",
      "Balance: 1000\n"
     ]
    },
    {
     "ename": "AttributeError",
     "evalue": "'BankAccount2' object has no attribute '__transfer'",
     "output_type": "error",
     "traceback": [
      "\u001b[0;31m---------------------------------------------------------------------------\u001b[0m",
      "\u001b[0;31mAttributeError\u001b[0m                            Traceback (most recent call last)",
      "Cell \u001b[0;32mIn[100], line 23\u001b[0m\n\u001b[1;32m     21\u001b[0m paul\u001b[38;5;241m.\u001b[39m__name\u001b[38;5;241m=\u001b[39m\u001b[38;5;124m'\u001b[39m\u001b[38;5;124mJohn\u001b[39m\u001b[38;5;124m'\u001b[39m\n\u001b[1;32m     22\u001b[0m paul\u001b[38;5;241m.\u001b[39minfo()\n\u001b[0;32m---> 23\u001b[0m \u001b[43mpaul\u001b[49m\u001b[38;5;241;43m.\u001b[39;49m\u001b[43m__transfer\u001b[49m(\u001b[38;5;241m100\u001b[39m,\u001b[38;5;124m'\u001b[39m\u001b[38;5;124mJohn\u001b[39m\u001b[38;5;124m'\u001b[39m)\n\u001b[1;32m     24\u001b[0m paul\u001b[38;5;241m.\u001b[39minfo()\n",
      "\u001b[0;31mAttributeError\u001b[0m: 'BankAccount2' object has no attribute '__transfer'"
     ]
    }
   ],
   "source": [
    "#encapsulation\n",
    "class BankAccount2:\n",
    "    def __init__(self,name,balance):\n",
    "        self.__name = name #private attribute\n",
    "        self.__balance = balance\n",
    "\n",
    "    def transfer(self,amount,destination):\n",
    "        self.__balance=self.__balance-amount\n",
    "        #fund transfer logic\n",
    "\n",
    "    def info(self):\n",
    "        print(\"\\nName:\",self.__name)\n",
    "        print(\"Balance:\",self.__balance)\n",
    "\n",
    "#main code\n",
    "paul=BankAccount2(\"Paul\",1000)\n",
    "paul.info()\n",
    "\n",
    "#changing the balance directly\n",
    "paul.__balance=1000000\n",
    "paul.__name='John'\n",
    "paul.info()\n",
    "paul.__transfer(100,'John')\n",
    "paul.info()"
   ]
  },
  {
   "cell_type": "code",
   "execution_count": null,
   "metadata": {},
   "outputs": [],
   "source": [
    "import math\n",
    "\n",
    "print(math.sqrt(25))"
   ]
  },
  {
   "cell_type": "code",
   "execution_count": null,
   "metadata": {},
   "outputs": [],
   "source": [
    "class A:\n",
    "    def __init__(self):\n",
    "        self.x = 1\n",
    "    \n",
    "    def info(self):\n",
    "        print('A')\n",
    "\n",
    "class B:\n",
    "    def __init__(self):\n",
    "        self.y = 2\n",
    "\n",
    "    def info(self):\n",
    "        print('B')\n",
    "\n",
    "class C(A,B):\n",
    "    def __init__(self):\n",
    "        A.__init__(self)\n",
    "        B.__init__(self)\n",
    "\n",
    "\n",
    "data=C()\n",
    "print(data.x)\n",
    "print(data.y)\n",
    "data.info()"
   ]
  },
  {
   "cell_type": "code",
   "execution_count": 128,
   "metadata": {},
   "outputs": [
    {
     "name": "stdout",
     "output_type": "stream",
     "text": [
      "52\n",
      "4 of Spades\n",
      "8 of Diamonds\n",
      "10 of Diamonds\n",
      "K of Hearts\n",
      "9 of Hearts\n",
      "47\n"
     ]
    }
   ],
   "source": [
    "import random\n",
    "class Card:\n",
    "    def __init__(self,suit,value):\n",
    "        self.suit = suit\n",
    "        self.value = value\n",
    "\n",
    "    def __str__(self):\n",
    "        return f'{self.value} of {self.suit}'\n",
    "\n",
    "class Deck:\n",
    "    def __init__(self):\n",
    "        self.cards=[]\n",
    "        self.initialise_deck()\n",
    "\n",
    "\n",
    "    def initialise_deck(self):\n",
    "        self.cards=[]\n",
    "        suits=['Hearts','Diamonds','Clubs','Spades']\n",
    "        values=['A','2','3','4','5','6','7','8','9','10','J','Q','K']\n",
    "\n",
    "        for suit in suits:\n",
    "            for value in values:\n",
    "                new_card=Card(suit,value)\n",
    "                self.cards.append(new_card)\n",
    "\n",
    "    def shuffle(self):\n",
    "        if len(self.cards)!=52:\n",
    "            self.cards.initialise()\n",
    "            \n",
    "        random.shuffle(self.cards)\n",
    "\n",
    "    def deal(self):\n",
    "        return self.cards.pop()\n",
    "\n",
    "\n",
    "deck=Deck()\n",
    "\n",
    "deck.shuffle()\n",
    "\n",
    "\n",
    "# for card in deck.cards:\n",
    "#     print(card)\n",
    "\n",
    "print(len(deck.cards))\n",
    "for i in range(5):\n",
    "    print(deck.deal())\n",
    "\n",
    "print(len(deck.cards))"
   ]
  }
 ],
 "metadata": {
  "kernelspec": {
   "display_name": "Python 3",
   "language": "python",
   "name": "python3"
  },
  "language_info": {
   "codemirror_mode": {
    "name": "ipython",
    "version": 3
   },
   "file_extension": ".py",
   "mimetype": "text/x-python",
   "name": "python",
   "nbconvert_exporter": "python",
   "pygments_lexer": "ipython3",
   "version": "3.10.2"
  }
 },
 "nbformat": 4,
 "nbformat_minor": 2
}
